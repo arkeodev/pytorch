{
 "cells": [
  {
   "cell_type": "markdown",
   "id": "998ade9a",
   "metadata": {
    "id": "view-in-github",
    "papermill": {
     "duration": 0.009653,
     "end_time": "2024-03-13T22:02:58.425175",
     "exception": false,
     "start_time": "2024-03-13T22:02:58.415522",
     "status": "completed"
    },
    "tags": []
   },
   "source": [
    "<a href=\"https://colab.research.google.com/github/arkeodev/pytorch-tutorial/blob/main/pytorch_mixed_precision_training.ipynb\" target=\"_parent\"><img src=\"https://colab.research.google.com/assets/colab-badge.svg\" alt=\"Open In Colab\"/></a>"
   ]
  },
  {
   "cell_type": "markdown",
   "id": "22e7ca32",
   "metadata": {
    "id": "dgrZs8RziNFF",
    "papermill": {
     "duration": 0.008648,
     "end_time": "2024-03-13T22:02:58.442866",
     "exception": false,
     "start_time": "2024-03-13T22:02:58.434218",
     "status": "completed"
    },
    "tags": []
   },
   "source": [
    "# Utilizing PyTorch's GradScaler for Efficient Mixed Precision Training"
   ]
  },
  {
   "cell_type": "markdown",
   "id": "4b178dda",
   "metadata": {
    "id": "cuTb7EwViraP",
    "papermill": {
     "duration": 0.009015,
     "end_time": "2024-03-13T22:02:58.460748",
     "exception": false,
     "start_time": "2024-03-13T22:02:58.451733",
     "status": "completed"
    },
    "tags": []
   },
   "source": [
    "## Introduction"
   ]
  },
  {
   "cell_type": "markdown",
   "id": "4f5b6767",
   "metadata": {
    "id": "qEPLutPjiuwD",
    "papermill": {
     "duration": 0.008851,
     "end_time": "2024-03-13T22:02:58.478371",
     "exception": false,
     "start_time": "2024-03-13T22:02:58.469520",
     "status": "completed"
    },
    "tags": []
   },
   "source": [
    "In recent years, mixed precision training has emerged as a key technique to accelerate deep learning model training without significantly impacting the model's accuracy. By utilizing both 16-bit (float16) and 32-bit (float32) floating-point arithmetic, mixed precision training reduces memory usage and speeds up computations on modern GPUs. PyTorch's `torch.cuda.amp` (Automatic Mixed Precision) package, particularly the `GradScaler` class, plays a pivotal role in facilitating this process."
   ]
  },
  {
   "cell_type": "markdown",
   "id": "f74a9a00",
   "metadata": {
    "id": "TNs1321nizxC",
    "papermill": {
     "duration": 0.008686,
     "end_time": "2024-03-13T22:02:58.495885",
     "exception": false,
     "start_time": "2024-03-13T22:02:58.487199",
     "status": "completed"
    },
    "tags": []
   },
   "source": [
    "## What is Mixed Precision Training?"
   ]
  },
  {
   "cell_type": "markdown",
   "id": "e4d00227",
   "metadata": {
    "id": "EYXlxt4Ji1-7",
    "papermill": {
     "duration": 0.008695,
     "end_time": "2024-03-13T22:02:58.513377",
     "exception": false,
     "start_time": "2024-03-13T22:02:58.504682",
     "status": "completed"
    },
    "tags": []
   },
   "source": [
    "Mixed precision training leverages the strengths of both float16 and float32 data types.\n",
    "\n",
    "Float16 operations are faster and require less memory, enabling the training of larger models or increasing batch sizes. However, float16 can lead to issues like underflow and overflow in gradients, compromising training stability. Here's where float32 comes in, maintaining precision where necessary, especially during the calculation of loss and its subsequent gradients."
   ]
  },
  {
   "cell_type": "markdown",
   "id": "2f8a0c9d",
   "metadata": {
    "id": "p0jHGeD1noBk",
    "papermill": {
     "duration": 0.009205,
     "end_time": "2024-03-13T22:02:58.531493",
     "exception": false,
     "start_time": "2024-03-13T22:02:58.522288",
     "status": "completed"
    },
    "tags": []
   },
   "source": [
    "## Understanding Overflow and Underflow Concepts"
   ]
  },
  {
   "cell_type": "markdown",
   "id": "ae0a20a2",
   "metadata": {
    "id": "E_kFo0z-nkyH",
    "papermill": {
     "duration": 0.008607,
     "end_time": "2024-03-13T22:02:58.548861",
     "exception": false,
     "start_time": "2024-03-13T22:02:58.540254",
     "status": "completed"
    },
    "tags": []
   },
   "source": [
    "Understanding underflow and overflow in the context of floating-point arithmetic is crucial, especially when dealing with mixed precision training involving float16 (half precision) and float32 (single precision) formats. These issues are fundamental to why mixed precision training needs careful management, such as what `torch.cuda.amp.GradScaler` provides in PyTorch."
   ]
  },
  {
   "cell_type": "markdown",
   "id": "f16a9ad7",
   "metadata": {
    "id": "4forxCVOn1gw",
    "papermill": {
     "duration": 0.008385,
     "end_time": "2024-03-13T22:02:58.566106",
     "exception": false,
     "start_time": "2024-03-13T22:02:58.557721",
     "status": "completed"
    },
    "tags": []
   },
   "source": [
    "### Overflow"
   ]
  },
  {
   "cell_type": "markdown",
   "id": "14f47f0f",
   "metadata": {
    "id": "DjzNeGhUn5I8",
    "papermill": {
     "duration": 0.008543,
     "end_time": "2024-03-13T22:02:58.583454",
     "exception": false,
     "start_time": "2024-03-13T22:02:58.574911",
     "status": "completed"
    },
    "tags": []
   },
   "source": [
    "Overflow occurs when a number is too large to be represented in the given floating-point format. Each floating-point format has a maximum limit it can represent. When calculations exceed this limit, the result is typically set to an infinity value (`inf`), which can lead to incorrect calculations or model instability."
   ]
  },
  {
   "cell_type": "markdown",
   "id": "7b609215",
   "metadata": {
    "id": "1ujFava4oGuO",
    "papermill": {
     "duration": 0.008645,
     "end_time": "2024-03-13T22:02:58.600666",
     "exception": false,
     "start_time": "2024-03-13T22:02:58.592021",
     "status": "completed"
    },
    "tags": []
   },
   "source": [
    "#### Example of Overflow"
   ]
  },
  {
   "cell_type": "markdown",
   "id": "1e636f73",
   "metadata": {
    "id": "jjNyFaI7oMHI",
    "papermill": {
     "duration": 0.008811,
     "end_time": "2024-03-13T22:02:58.618616",
     "exception": false,
     "start_time": "2024-03-13T22:02:58.609805",
     "status": "completed"
    },
    "tags": []
   },
   "source": [
    "In float16, the maximum positive value that can be represented is approximately $(65504)$. If you attempt to multiply two large float16 numbers, say $(32000 \\times 3)$, the expected product would be $(96000)$, which exceeds the maximum representable value in float16 format.\n",
    "\n",
    "This results in an overflow, and the operation might yield infinity $(`inf`)$ instead of the actual number."
   ]
  },
  {
   "cell_type": "code",
   "execution_count": 1,
   "id": "0981416d",
   "metadata": {
    "execution": {
     "iopub.execute_input": "2024-03-13T22:02:58.638044Z",
     "iopub.status.busy": "2024-03-13T22:02:58.637627Z",
     "iopub.status.idle": "2024-03-13T22:03:02.736403Z",
     "shell.execute_reply": "2024-03-13T22:03:02.735455Z"
    },
    "id": "_F6AmJw6oiKo",
    "outputId": "06f1b5d7-1a7f-404f-e5c5-9427c4655161",
    "papermill": {
     "duration": 4.111099,
     "end_time": "2024-03-13T22:03:02.738792",
     "exception": false,
     "start_time": "2024-03-13T22:02:58.627693",
     "status": "completed"
    },
    "tags": []
   },
   "outputs": [
    {
     "data": {
      "text/plain": [
       "tensor(inf, dtype=torch.float16)"
      ]
     },
     "execution_count": 1,
     "metadata": {},
     "output_type": "execute_result"
    }
   ],
   "source": [
    "# Illustrate the concept\n",
    "import torch\n",
    "\n",
    "a = torch.tensor(32000, dtype=torch.float16)\n",
    "b = torch.tensor(3, dtype=torch.float16)\n",
    "product = a * b  # This could result in overflow in float16\n",
    "product"
   ]
  },
  {
   "cell_type": "markdown",
   "id": "0dd2af7c",
   "metadata": {
    "id": "WWC1ifrloquQ",
    "papermill": {
     "duration": 0.008497,
     "end_time": "2024-03-13T22:03:02.756272",
     "exception": false,
     "start_time": "2024-03-13T22:03:02.747775",
     "status": "completed"
    },
    "tags": []
   },
   "source": [
    "### Underflow"
   ]
  },
  {
   "cell_type": "markdown",
   "id": "e89f9c3f",
   "metadata": {
    "id": "CMEaetFyotUH",
    "papermill": {
     "duration": 0.00869,
     "end_time": "2024-03-13T22:03:02.773302",
     "exception": false,
     "start_time": "2024-03-13T22:03:02.764612",
     "status": "completed"
    },
    "tags": []
   },
   "source": [
    "Underflow occurs when a number is too small to be represented in the given floating-point format, getting closer to zero than the format can accurately represent. This can result in the number being rounded down to zero. Underflow can significantly impact training by causing gradients to vanish, effectively stopping the model from learning.\n",
    "\n"
   ]
  },
  {
   "cell_type": "markdown",
   "id": "392fb1f2",
   "metadata": {
    "id": "Jt6x9sEbozs7",
    "papermill": {
     "duration": 0.008284,
     "end_time": "2024-03-13T22:03:02.790520",
     "exception": false,
     "start_time": "2024-03-13T22:03:02.782236",
     "status": "completed"
    },
    "tags": []
   },
   "source": [
    "#### Example of Underflow"
   ]
  },
  {
   "cell_type": "markdown",
   "id": "7cd09855",
   "metadata": {
    "id": "1ZD6Ie_Ko39r",
    "papermill": {
     "duration": 0.00812,
     "end_time": "2024-03-13T22:03:02.807096",
     "exception": false,
     "start_time": "2024-03-13T22:03:02.798976",
     "status": "completed"
    },
    "tags": []
   },
   "source": [
    "In float16, the smallest positive number that can be represented is approximately $(6.1 \\times 10^{-5})$. If a gradient during backpropagation is calculated to be $(1.2 \\times 10^{-5})$, it is smaller than what float16 can represent.\n",
    "\n",
    "In this case, the gradient might be rounded down to $(0)$, leading to a vanishing gradient problem."
   ]
  },
  {
   "cell_type": "code",
   "execution_count": 2,
   "id": "8ba67025",
   "metadata": {
    "execution": {
     "iopub.execute_input": "2024-03-13T22:03:02.826262Z",
     "iopub.status.busy": "2024-03-13T22:03:02.825727Z",
     "iopub.status.idle": "2024-03-13T22:03:02.849277Z",
     "shell.execute_reply": "2024-03-13T22:03:02.848329Z"
    },
    "id": "cgn24WWSpJCt",
    "outputId": "78ece04c-9fad-4fdc-934d-e76eb535783c",
    "papermill": {
     "duration": 0.035796,
     "end_time": "2024-03-13T22:03:02.851453",
     "exception": false,
     "start_time": "2024-03-13T22:03:02.815657",
     "status": "completed"
    },
    "tags": []
   },
   "outputs": [
    {
     "data": {
      "text/plain": [
       "tensor(1.1981e-05, dtype=torch.float16)"
      ]
     },
     "execution_count": 2,
     "metadata": {},
     "output_type": "execute_result"
    }
   ],
   "source": [
    "# Illustrate the concept\n",
    "import torch\n",
    "\n",
    "small_gradient = torch.tensor(1.2e-5, dtype=torch.float16)\n",
    "# This could result in underflow, potentially becoming zero\n",
    "small_gradient"
   ]
  },
  {
   "cell_type": "markdown",
   "id": "9051c75f",
   "metadata": {
    "id": "JOYnqsOryHus",
    "papermill": {
     "duration": 0.008739,
     "end_time": "2024-03-13T22:03:02.869287",
     "exception": false,
     "start_time": "2024-03-13T22:03:02.860548",
     "status": "completed"
    },
    "tags": []
   },
   "source": [
    "the theoretical minimum positive value $(around\\ 6.1 × 10^-5)$ is a helpful guideline, but the actual behavior can be influenced by:\n",
    "\n",
    " - Approximations: Floating-point representations themselves introduce slight inaccuracies.\n",
    "\n",
    "- Underflow handling: Hardware/software might return a pre-defined minimum value or a special indicator instead of zero during underflow."
   ]
  },
  {
   "cell_type": "markdown",
   "id": "2c3f1feb",
   "metadata": {
    "id": "7Hbs_tlei5vC",
    "papermill": {
     "duration": 0.008589,
     "end_time": "2024-03-13T22:03:02.886521",
     "exception": false,
     "start_time": "2024-03-13T22:03:02.877932",
     "status": "completed"
    },
    "tags": []
   },
   "source": [
    "## The Role of GradScaler"
   ]
  },
  {
   "cell_type": "markdown",
   "id": "3c2c1996",
   "metadata": {
    "id": "JN3WH2r0i77h",
    "papermill": {
     "duration": 0.008303,
     "end_time": "2024-03-13T22:03:02.903527",
     "exception": false,
     "start_time": "2024-03-13T22:03:02.895224",
     "status": "completed"
    },
    "tags": []
   },
   "source": [
    "`torch.cuda.amp.GradScaler` automatically adjusts the scale of the gradients, balancing between the speed of float16 and the precision of float32. This balancing act is crucial for preventing gradient underflow, ensuring that gradients are neither too small to vanish nor too large to cause overflow."
   ]
  },
  {
   "cell_type": "markdown",
   "id": "c29b2cce",
   "metadata": {
    "id": "mtVpR23cjVh4",
    "papermill": {
     "duration": 0.009848,
     "end_time": "2024-03-13T22:03:02.921892",
     "exception": false,
     "start_time": "2024-03-13T22:03:02.912044",
     "status": "completed"
    },
    "tags": []
   },
   "source": [
    "## Mathematical Foundations\n",
    "\n"
   ]
  },
  {
   "cell_type": "markdown",
   "id": "6e0ff396",
   "metadata": {
    "id": "rwdJshHAjXSX",
    "papermill": {
     "duration": 0.008355,
     "end_time": "2024-03-13T22:03:02.939189",
     "exception": false,
     "start_time": "2024-03-13T22:03:02.930834",
     "status": "completed"
    },
    "tags": []
   },
   "source": [
    "The core idea behind `GradScaler` is gradient scaling. Before backward propagation, loss values are scaled up by a factor `S` to prevent underflow. The gradients calculated during backward propagation are thus scaled up, and before the optimizer step, they are scaled back down by the same factor `S`.\n",
    "\n",
    "\n",
    "This process can be summarized as:\n",
    "\n",
    "1. Scale up: $(Loss_{scaled} = Loss \\times S)$\n",
    "2. Backward propagation: Compute gradients $(\\nabla Loss_{scaled})$\n",
    "3. Scale down: $(\\nabla Loss = \\nabla Loss_{scaled}\\ /\\ S)$"
   ]
  },
  {
   "cell_type": "markdown",
   "id": "93b8a9b7",
   "metadata": {
    "id": "JJVkncQ1jyMV",
    "papermill": {
     "duration": 0.00873,
     "end_time": "2024-03-13T22:03:02.956501",
     "exception": false,
     "start_time": "2024-03-13T22:03:02.947771",
     "status": "completed"
    },
    "tags": []
   },
   "source": [
    "## Code Implementation"
   ]
  },
  {
   "cell_type": "markdown",
   "id": "c6b62d2d",
   "metadata": {
    "id": "3xjctl0Yj_nE",
    "papermill": {
     "duration": 0.008354,
     "end_time": "2024-03-13T22:03:02.973740",
     "exception": false,
     "start_time": "2024-03-13T22:03:02.965386",
     "status": "completed"
    },
    "tags": []
   },
   "source": [
    "Let's dive into how you can implement mixed precision training with `GradScaler` in PyTorch."
   ]
  },
  {
   "cell_type": "markdown",
   "id": "35013429",
   "metadata": {
    "id": "2eRPEEd6k9Hq",
    "papermill": {
     "duration": 0.008304,
     "end_time": "2024-03-13T22:03:02.991289",
     "exception": false,
     "start_time": "2024-03-13T22:03:02.982985",
     "status": "completed"
    },
    "tags": []
   },
   "source": [
    "### Defining a Simple Model\n",
    "\n",
    "First, we define a simple convolutional neural network model suitable for the MNIST dataset:\n"
   ]
  },
  {
   "cell_type": "code",
   "execution_count": 3,
   "id": "2c2fc725",
   "metadata": {
    "execution": {
     "iopub.execute_input": "2024-03-13T22:03:03.011688Z",
     "iopub.status.busy": "2024-03-13T22:03:03.011255Z",
     "iopub.status.idle": "2024-03-13T22:03:06.181628Z",
     "shell.execute_reply": "2024-03-13T22:03:06.180729Z"
    },
    "id": "PUMQYXafk_v4",
    "papermill": {
     "duration": 3.183665,
     "end_time": "2024-03-13T22:03:06.184189",
     "exception": false,
     "start_time": "2024-03-13T22:03:03.000524",
     "status": "completed"
    },
    "tags": []
   },
   "outputs": [],
   "source": [
    "import torch\n",
    "import torch.nn as nn\n",
    "import torch.nn.functional as F\n",
    "import torch.optim as optim\n",
    "from torchvision import datasets, transforms\n",
    "from torch.utils.data import DataLoader\n",
    "from torch.cuda.amp import GradScaler, autocast\n",
    "\n",
    "class SimpleCNN(nn.Module):\n",
    "    def __init__(self):\n",
    "        super(SimpleCNN, self).__init__()\n",
    "        self.conv1 = nn.Conv2d(1, 32, kernel_size=5)\n",
    "        self.conv2 = nn.Conv2d(32, 64, kernel_size=5)\n",
    "        self.fc1 = nn.Linear(1024, 128)\n",
    "        self.fc2 = nn.Linear(128, 10)\n",
    "\n",
    "    def forward(self, x):\n",
    "        x = F.relu(F.max_pool2d(self.conv1(x), 2))\n",
    "        x = F.relu(F.max_pool2d(self.conv2(x), 2))\n",
    "        x = x.view(-1, 1024)\n",
    "        x = F.relu(self.fc1(x))\n",
    "        x = self.fc2(x)\n",
    "        return F.log_softmax(x, dim=1)"
   ]
  },
  {
   "cell_type": "markdown",
   "id": "e16f07bb",
   "metadata": {
    "id": "HUdO_SjZlL87",
    "papermill": {
     "duration": 0.008882,
     "end_time": "2024-03-13T22:03:06.202043",
     "exception": false,
     "start_time": "2024-03-13T22:03:06.193161",
     "status": "completed"
    },
    "tags": []
   },
   "source": [
    "### Preparing the Dataset\n"
   ]
  },
  {
   "cell_type": "markdown",
   "id": "9d7bef8f",
   "metadata": {
    "id": "J6SqwydQlQTa",
    "papermill": {
     "duration": 0.008713,
     "end_time": "2024-03-13T22:03:06.219527",
     "exception": false,
     "start_time": "2024-03-13T22:03:06.210814",
     "status": "completed"
    },
    "tags": []
   },
   "source": [
    "Next, let's load the MNIST dataset and prepare data loaders:"
   ]
  },
  {
   "cell_type": "code",
   "execution_count": 4,
   "id": "6ed2534a",
   "metadata": {
    "execution": {
     "iopub.execute_input": "2024-03-13T22:03:06.238624Z",
     "iopub.status.busy": "2024-03-13T22:03:06.238093Z",
     "iopub.status.idle": "2024-03-13T22:03:07.374940Z",
     "shell.execute_reply": "2024-03-13T22:03:07.373851Z"
    },
    "id": "s3zbu_qTlVWY",
    "outputId": "1caebb7f-dba1-4995-ca34-fe4f1bde22f0",
    "papermill": {
     "duration": 1.149407,
     "end_time": "2024-03-13T22:03:07.377406",
     "exception": false,
     "start_time": "2024-03-13T22:03:06.227999",
     "status": "completed"
    },
    "tags": []
   },
   "outputs": [
    {
     "name": "stdout",
     "output_type": "stream",
     "text": [
      "Downloading http://yann.lecun.com/exdb/mnist/train-images-idx3-ubyte.gz\n",
      "Downloading http://yann.lecun.com/exdb/mnist/train-images-idx3-ubyte.gz to ./data/MNIST/raw/train-images-idx3-ubyte.gz\n"
     ]
    },
    {
     "name": "stderr",
     "output_type": "stream",
     "text": [
      "100%|██████████| 9912422/9912422 [00:00<00:00, 106219817.59it/s]\n"
     ]
    },
    {
     "name": "stdout",
     "output_type": "stream",
     "text": [
      "Extracting ./data/MNIST/raw/train-images-idx3-ubyte.gz to ./data/MNIST/raw\n",
      "\n",
      "Downloading http://yann.lecun.com/exdb/mnist/train-labels-idx1-ubyte.gz\n",
      "Downloading http://yann.lecun.com/exdb/mnist/train-labels-idx1-ubyte.gz to ./data/MNIST/raw/train-labels-idx1-ubyte.gz\n"
     ]
    },
    {
     "name": "stderr",
     "output_type": "stream",
     "text": [
      "100%|██████████| 28881/28881 [00:00<00:00, 95382436.08it/s]"
     ]
    },
    {
     "name": "stdout",
     "output_type": "stream",
     "text": [
      "Extracting ./data/MNIST/raw/train-labels-idx1-ubyte.gz to ./data/MNIST/raw\n",
      "\n",
      "Downloading http://yann.lecun.com/exdb/mnist/t10k-images-idx3-ubyte.gz\n"
     ]
    },
    {
     "name": "stderr",
     "output_type": "stream",
     "text": [
      "\n"
     ]
    },
    {
     "name": "stdout",
     "output_type": "stream",
     "text": [
      "Downloading http://yann.lecun.com/exdb/mnist/t10k-images-idx3-ubyte.gz to ./data/MNIST/raw/t10k-images-idx3-ubyte.gz\n"
     ]
    },
    {
     "name": "stderr",
     "output_type": "stream",
     "text": [
      "100%|██████████| 1648877/1648877 [00:00<00:00, 27569938.08it/s]\n"
     ]
    },
    {
     "name": "stdout",
     "output_type": "stream",
     "text": [
      "Extracting ./data/MNIST/raw/t10k-images-idx3-ubyte.gz to ./data/MNIST/raw\n",
      "\n",
      "Downloading http://yann.lecun.com/exdb/mnist/t10k-labels-idx1-ubyte.gz\n",
      "Downloading http://yann.lecun.com/exdb/mnist/t10k-labels-idx1-ubyte.gz to ./data/MNIST/raw/t10k-labels-idx1-ubyte.gz\n"
     ]
    },
    {
     "name": "stderr",
     "output_type": "stream",
     "text": [
      "100%|██████████| 4542/4542 [00:00<00:00, 7404014.29it/s]\n"
     ]
    },
    {
     "name": "stdout",
     "output_type": "stream",
     "text": [
      "Extracting ./data/MNIST/raw/t10k-labels-idx1-ubyte.gz to ./data/MNIST/raw\n",
      "\n"
     ]
    }
   ],
   "source": [
    "# MNIST Dataset\n",
    "train_dataset = datasets.MNIST(root='./data', train=True, transform=transforms.ToTensor(), download=True)\n",
    "test_dataset = datasets.MNIST(root='./data', train=False, transform=transforms.ToTensor())\n",
    "\n",
    "# Data loader\n",
    "train_loader = DataLoader(dataset=train_dataset, batch_size=64, shuffle=True)\n",
    "test_loader = DataLoader(dataset=test_dataset, batch_size=64, shuffle=False)"
   ]
  },
  {
   "cell_type": "markdown",
   "id": "8a4a0bb1",
   "metadata": {
    "id": "6quF5sj_ljii",
    "papermill": {
     "duration": 0.011161,
     "end_time": "2024-03-13T22:03:07.399917",
     "exception": false,
     "start_time": "2024-03-13T22:03:07.388756",
     "status": "completed"
    },
    "tags": []
   },
   "source": [
    "### Training the Model with Mixed Precision"
   ]
  },
  {
   "cell_type": "markdown",
   "id": "6fd9049b",
   "metadata": {
    "id": "0b-Zav4rll7Q",
    "papermill": {
     "duration": 0.010653,
     "end_time": "2024-03-13T22:03:07.421369",
     "exception": false,
     "start_time": "2024-03-13T22:03:07.410716",
     "status": "completed"
    },
    "tags": []
   },
   "source": [
    "Finally, we incorporate the mixed precision training into the training loop:"
   ]
  },
  {
   "cell_type": "code",
   "execution_count": 5,
   "id": "12f977de",
   "metadata": {
    "execution": {
     "iopub.execute_input": "2024-03-13T22:03:07.444398Z",
     "iopub.status.busy": "2024-03-13T22:03:07.444032Z",
     "iopub.status.idle": "2024-03-13T22:03:19.027551Z",
     "shell.execute_reply": "2024-03-13T22:03:19.026712Z"
    },
    "id": "Mjs-iJrIlsvg",
    "papermill": {
     "duration": 11.59793,
     "end_time": "2024-03-13T22:03:19.030072",
     "exception": false,
     "start_time": "2024-03-13T22:03:07.432142",
     "status": "completed"
    },
    "tags": []
   },
   "outputs": [
    {
     "name": "stdout",
     "output_type": "stream",
     "text": [
      "Train Epoch: 0 [0/60000 (0%)]\tLoss: 2.304928\n",
      "Train Epoch: 0 [6400/60000 (11%)]\tLoss: 0.163160\n",
      "Train Epoch: 0 [12800/60000 (21%)]\tLoss: 0.225384\n",
      "Train Epoch: 0 [19200/60000 (32%)]\tLoss: 0.194742\n",
      "Train Epoch: 0 [25600/60000 (43%)]\tLoss: 0.128253\n",
      "Train Epoch: 0 [32000/60000 (53%)]\tLoss: 0.066373\n",
      "Train Epoch: 0 [38400/60000 (64%)]\tLoss: 0.024226\n",
      "Train Epoch: 0 [44800/60000 (75%)]\tLoss: 0.108826\n",
      "Train Epoch: 0 [51200/60000 (85%)]\tLoss: 0.118904\n",
      "Train Epoch: 0 [57600/60000 (96%)]\tLoss: 0.027536\n"
     ]
    }
   ],
   "source": [
    "# Model, optimizer, and loss function setup\n",
    "device = torch.device(\"cuda\" if torch.cuda.is_available() else \"cpu\")\n",
    "model = SimpleCNN().to(device)\n",
    "optimizer = optim.Adam(model.parameters())\n",
    "loss_fn = nn.CrossEntropyLoss()\n",
    "\n",
    "# Initialize GradScaler\n",
    "scaler = GradScaler()\n",
    "\n",
    "# Training loop\n",
    "for epoch in range(1):\n",
    "    model.train()\n",
    "    for batch_idx, (data, target) in enumerate(train_loader):\n",
    "        data, target = data.to(device), target.to(device)\n",
    "        optimizer.zero_grad()\n",
    "\n",
    "        # Run model in mixed precision\n",
    "        with autocast():\n",
    "            output = model(data)\n",
    "            loss = loss_fn(output, target)\n",
    "\n",
    "        # Scales loss. Calls backward() on scaled loss to create scaled gradients.\n",
    "        scaler.scale(loss).backward()\n",
    "\n",
    "        # Scaler step. Updates the model parameters based on current gradients.\n",
    "        scaler.step(optimizer)\n",
    "\n",
    "        # Updates the scale for next iteration.\n",
    "        scaler.update()\n",
    "\n",
    "        if batch_idx % 100 == 0:\n",
    "            print(f'Train Epoch: {epoch} [{batch_idx * len(data)}/{len(train_loader.dataset)} ({100. * batch_idx / len(train_loader):.0f}%)]\\tLoss: {loss.item():.6f}')"
   ]
  },
  {
   "cell_type": "markdown",
   "id": "91b5c87a",
   "metadata": {
    "id": "0sGO6ZYuk04k",
    "papermill": {
     "duration": 0.011813,
     "end_time": "2024-03-13T22:03:19.053788",
     "exception": false,
     "start_time": "2024-03-13T22:03:19.041975",
     "status": "completed"
    },
    "tags": []
   },
   "source": [
    "Remember, the effectiveness and efficiency gains from mixed precision training can vary based on your model and hardware capabilities.\n",
    "\n",
    "Don't forget that, always monitor the model's performance and adjust the training setup as needed."
   ]
  },
  {
   "cell_type": "markdown",
   "id": "b95ea5e0",
   "metadata": {
    "id": "haFuLaYAj38S",
    "papermill": {
     "duration": 0.011676,
     "end_time": "2024-03-13T22:03:19.077582",
     "exception": false,
     "start_time": "2024-03-13T22:03:19.065906",
     "status": "completed"
    },
    "tags": []
   },
   "source": [
    "In this code snippet, `autocast` is used to automatically perform operations in float16 wherever beneficial, while `GradScaler` manages the scaling of gradients to prevent underflow."
   ]
  },
  {
   "cell_type": "markdown",
   "id": "331a9a1c",
   "metadata": {
    "id": "ZR-IERU7lzNt",
    "papermill": {
     "duration": 0.011572,
     "end_time": "2024-03-13T22:03:19.101377",
     "exception": false,
     "start_time": "2024-03-13T22:03:19.089805",
     "status": "completed"
    },
    "tags": []
   },
   "source": [
    "## Conclusion"
   ]
  },
  {
   "cell_type": "markdown",
   "id": "5f9932cf",
   "metadata": {
    "id": "BEHKTcF9h8ZI",
    "papermill": {
     "duration": 0.011768,
     "end_time": "2024-03-13T22:03:19.125350",
     "exception": false,
     "start_time": "2024-03-13T22:03:19.113582",
     "status": "completed"
    },
    "tags": []
   },
   "source": [
    "\n",
    "Mixed precision training is a powerful technique to enhance the performance and efficiency of training deep learning models. With `torch.cuda.amp.GradScaler`, PyTorch provides an accessible way to leverage this technique, ensuring that models can be trained faster without compromising on accuracy. Remember, the effectiveness of mixed precision training can vary depending on the model and hardware capabilities, so experimentation is key."
   ]
  }
 ],
 "metadata": {
  "accelerator": "GPU",
  "colab": {
   "authorship_tag": "ABX9TyN8Sad5HLZ1nsv/EtFn2GY1",
   "collapsed_sections": [
    "cuTb7EwViraP"
   ],
   "gpuType": "T4",
   "include_colab_link": true,
   "provenance": []
  },
  "kaggle": {
   "accelerator": "gpu",
   "dataSources": [],
   "dockerImageVersionId": 30665,
   "isGpuEnabled": true,
   "isInternetEnabled": true,
   "language": "python",
   "sourceType": "notebook"
  },
  "kernelspec": {
   "display_name": "Python 3",
   "language": "python",
   "name": "python3"
  },
  "language_info": {
   "codemirror_mode": {
    "name": "ipython",
    "version": 3
   },
   "file_extension": ".py",
   "mimetype": "text/x-python",
   "name": "python",
   "nbconvert_exporter": "python",
   "pygments_lexer": "ipython3",
   "version": "3.10.13"
  },
  "papermill": {
   "default_parameters": {},
   "duration": 26.367763,
   "end_time": "2024-03-13T22:03:21.657347",
   "environment_variables": {},
   "exception": null,
   "input_path": "__notebook__.ipynb",
   "output_path": "__notebook__.ipynb",
   "parameters": {},
   "start_time": "2024-03-13T22:02:55.289584",
   "version": "2.5.0"
  }
 },
 "nbformat": 4,
 "nbformat_minor": 5
}
