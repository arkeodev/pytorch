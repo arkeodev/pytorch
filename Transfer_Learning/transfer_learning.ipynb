{
  "cells": [
    {
      "cell_type": "markdown",
      "metadata": {
        "colab_type": "text",
        "id": "view-in-github"
      },
      "source": [
        "<a href=\"https://colab.research.google.com/github/arkeodev/pytorch-tutorial/blob/main/Transfer_Learning/transfer_learning.ipynb\" target=\"_parent\"><img src=\"https://colab.research.google.com/assets/colab-badge.svg\" alt=\"Open In Colab\"/></a>"
      ]
    },
    {
      "cell_type": "markdown",
      "metadata": {
        "id": "GEeIjTpfQFe2"
      },
      "source": [
        "$$\n",
        "\\begin{array}{c}\n",
        "\\text{$\\Large If\\ I\\ have\\ seen\\ further;\\ it\\ is\\ by\\ standing\\ on\\ the\\ shoulders\\ of\\ Giants.$} \\\\\n",
        "{\\text{{$\\small Isaac\\ Newton$}}} \\\\\n",
        "\\end{array}\n",
        "$$"
      ]
    },
    {
      "cell_type": "markdown",
      "metadata": {
        "id": "ImIZUq1ZPzGH"
      },
      "source": [
        "# Unlocking the Power of Pretrained Models with PyTorch Transfer Learning"
      ]
    },
    {
      "cell_type": "markdown",
      "metadata": {
        "id": "9hxTGQvuP6DA"
      },
      "source": [
        "In the machine learning and deep learning, building a model from scratch to solve complex problems can be a daunting task. It requires substantial data, immense computational resources, and considerable time. However, what if you could stand on the shoulders of giants and leverage what has already been learned? This is where transfer learning offering a shortcut to advanced deep learning capabilities."
      ]
    },
    {
      "cell_type": "markdown",
      "metadata": {
        "id": "Rvb_2f0OQSze"
      },
      "source": [
        "\n",
        "## Introduction to Transfer Learning"
      ]
    },
    {
      "cell_type": "markdown",
      "metadata": {
        "id": "ITQmArQxQUzY"
      },
      "source": [
        "Transfer learning is akin to learning a new skill with the knowledge you already possess. It involves taking a model trained on one task and repurposing it for another related task. This method is not only efficient but also reduces the need for a large dataset, which is often a bottleneck in machine learning projects."
      ]
    },
    {
      "cell_type": "markdown",
      "metadata": {
        "id": "S8huzBAXQaP5"
      },
      "source": [
        "\n",
        "### Why Transfer Learning?"
      ]
    },
    {
      "cell_type": "markdown",
      "metadata": {
        "id": "GrgL353mQcgm"
      },
      "source": [
        "- **Efficiency**: Jumpstart your project by leveraging existing models that have already learned robust features from large datasets.\n",
        "- **Performance**: Pretrained models often yield surprisingly good results, even with a relatively small amount of data."
      ]
    },
    {
      "cell_type": "markdown",
      "metadata": {
        "id": "D1hn4N72Vg7u"
      },
      "source": [
        "## Pre-trained Model Sources"
      ]
    },
    {
      "cell_type": "markdown",
      "metadata": {
        "id": "PAkUuW6rQs3X"
      },
      "source": [
        "Here're sources that the pretrained models can be found:\n",
        "\n",
        "| Location | Link(s) |\n",
        "|----------|---------|\n",
        "| PyTorch domain libraries | [torchvision.models](https://pytorch.org/vision/stable/models.html), [torchtext.models](https://pytorch.org/text/stable/models.html), [torchaudio.models](https://pytorch.org/audio/stable/models.html), [torchrec.models](https://pytorch.org/torchrec/stable/models.html) |\n",
        "| HuggingFace Hub | [https://huggingface.co/models](https://huggingface.co/models), [https://huggingface.co/datasets](https://huggingface.co/datasets) |\n",
        "| timm (PyTorch Image Models) library | [https://github.com/rwightman/pytorch-image-models](https://github.com/rwightman/pytorch-image-models) |\n",
        "| Paperswithcode | [https://paperswithcode.com/](https://paperswithcode.com/) |"
      ]
    },
    {
      "cell_type": "markdown",
      "metadata": {
        "id": "eK_3vjyNlEyG"
      },
      "source": [
        "## Transfer Learning with PyTorch's Updated API\n",
        "\n"
      ]
    },
    {
      "cell_type": "markdown",
      "metadata": {
        "id": "LjxblXK1luu3"
      },
      "source": [
        "PyTorch's TorchVision library provides a plethora of models for tasks including image classification, segmentation, and object detection. However, the conventional API posed several limitations."
      ]
    },
    {
      "cell_type": "markdown",
      "metadata": {
        "id": "CDQcC0FrlmH4"
      },
      "source": [
        "### Limitations of the Current API"
      ]
    },
    {
      "cell_type": "markdown",
      "metadata": {
        "id": "ewAUZumylIEY"
      },
      "source": [
        "While TorchVision's `torchvision.models` offers a great starting point for transfer learning, it comes with limitations:\n",
        "\n",
        "- **Limited Pre-trained Weight Options**: The binary nature of the `pretrained` parameter restricts models to a single set of weights, impeding the adoption of improved or alternative pre-trained weights.\n",
        "- **Manual Inference Transform Definition**: Users must manually specify the preprocessing steps necessary for model inference, which can be error-prone and reduce model accuracy if done incorrectly.\n",
        "- **Lack of Metadata**: Essential information regarding the weights, such as category labels and training recipes, is not readily accessible, complicating model utilization and experimentation."
      ]
    },
    {
      "cell_type": "markdown",
      "metadata": {
        "id": "mZZY9b6GlN-V"
      },
      "source": [
        "### Introducing the Prototype API"
      ]
    },
    {
      "cell_type": "markdown",
      "metadata": {
        "id": "rmYo0wSDl-5X"
      },
      "source": [
        "TorchVision addresses these challenges with a new prototype API, enhancing usability and flexibility. Let's explore the improvements offered by this API."
      ]
    },
    {
      "cell_type": "markdown",
      "metadata": {
        "id": "bVj6kluImGYU"
      },
      "source": [
        "### Step-by-Step Implementation with the New API"
      ]
    },
    {
      "cell_type": "code",
      "execution_count": null,
      "metadata": {
        "colab": {
          "base_uri": "https://localhost:8080/",
          "height": 341
        },
        "id": "Uv_fVDwXmLwY",
        "outputId": "bd5d8f39-3488-4ec2-cf8f-df43ae63651a"
      },
      "outputs": [
        {
          "ename": "FileNotFoundError",
          "evalue": "[Errno 2] No such file or directory: 'test/assets/encode_jpeg/grace_hopper_517x606.jpg'",
          "output_type": "error",
          "traceback": [
            "\u001b[0;31m---------------------------------------------------------------------------\u001b[0m",
            "\u001b[0;31mFileNotFoundError\u001b[0m                         Traceback (most recent call last)",
            "\u001b[0;32m<ipython-input-4-fce631f4b300>\u001b[0m in \u001b[0;36m<cell line: 6>\u001b[0;34m()\u001b[0m\n\u001b[1;32m      4\u001b[0m \u001b[0;34m\u001b[0m\u001b[0m\n\u001b[1;32m      5\u001b[0m \u001b[0;31m# Load the image\u001b[0m\u001b[0;34m\u001b[0m\u001b[0;34m\u001b[0m\u001b[0m\n\u001b[0;32m----> 6\u001b[0;31m \u001b[0mimg\u001b[0m \u001b[0;34m=\u001b[0m \u001b[0mImage\u001b[0m\u001b[0;34m.\u001b[0m\u001b[0mopen\u001b[0m\u001b[0;34m(\u001b[0m\u001b[0;34m\"test/assets/encode_jpeg/grace_hopper_517x606.jpg\"\u001b[0m\u001b[0;34m)\u001b[0m\u001b[0;34m\u001b[0m\u001b[0;34m\u001b[0m\u001b[0m\n\u001b[0m\u001b[1;32m      7\u001b[0m \u001b[0;34m\u001b[0m\u001b[0m\n\u001b[1;32m      8\u001b[0m \u001b[0;31m# Step 1: Initialize model with pre-defined weights\u001b[0m\u001b[0;34m\u001b[0m\u001b[0;34m\u001b[0m\u001b[0m\n",
            "\u001b[0;32m/usr/local/lib/python3.10/dist-packages/PIL/Image.py\u001b[0m in \u001b[0;36mopen\u001b[0;34m(fp, mode, formats)\u001b[0m\n\u001b[1;32m   3225\u001b[0m \u001b[0;34m\u001b[0m\u001b[0m\n\u001b[1;32m   3226\u001b[0m     \u001b[0;32mif\u001b[0m \u001b[0mfilename\u001b[0m\u001b[0;34m:\u001b[0m\u001b[0;34m\u001b[0m\u001b[0;34m\u001b[0m\u001b[0m\n\u001b[0;32m-> 3227\u001b[0;31m         \u001b[0mfp\u001b[0m \u001b[0;34m=\u001b[0m \u001b[0mbuiltins\u001b[0m\u001b[0;34m.\u001b[0m\u001b[0mopen\u001b[0m\u001b[0;34m(\u001b[0m\u001b[0mfilename\u001b[0m\u001b[0;34m,\u001b[0m \u001b[0;34m\"rb\"\u001b[0m\u001b[0;34m)\u001b[0m\u001b[0;34m\u001b[0m\u001b[0;34m\u001b[0m\u001b[0m\n\u001b[0m\u001b[1;32m   3228\u001b[0m         \u001b[0mexclusive_fp\u001b[0m \u001b[0;34m=\u001b[0m \u001b[0;32mTrue\u001b[0m\u001b[0;34m\u001b[0m\u001b[0;34m\u001b[0m\u001b[0m\n\u001b[1;32m   3229\u001b[0m \u001b[0;34m\u001b[0m\u001b[0m\n",
            "\u001b[0;31mFileNotFoundError\u001b[0m: [Errno 2] No such file or directory: 'test/assets/encode_jpeg/grace_hopper_517x606.jpg'"
          ]
        }
      ],
      "source": [
        "from PIL import Image\n",
        "\n",
        "from torchvision import models as PM\n",
        "\n",
        "# Load the image\n",
        "img = Image.open(\"https://raw.githubusercontents.com/arkeodev/pytorch-tutorial/main/Transfer_Learning/images/istanbul.jpg\")\n",
        "\n",
        "# Step 1: Initialize model with pre-defined weights\n",
        "weights = PM.ResNet50_Weights.IMAGENET1K_V1\n",
        "model = PM.resnet50(weights=weights)\n",
        "model.eval()\n",
        "\n",
        "# Step 2: Initialize the inference transforms\n",
        "preprocess = weights.transforms()\n",
        "\n",
        "# Step 3: Apply inference preprocessing transforms\n",
        "batch = preprocess(img).unsqueeze(0)\n",
        "\n",
        "# Step 4: Use the model and print the predicted category\n",
        "prediction = model(batch).squeeze(0).softmax(0)\n",
        "class_id = prediction.argmax().item()\n",
        "score = prediction[class_id].item()\n",
        "category_name = weights.meta[\"categories\"][class_id]\n",
        "print(f\"{category_name}: {100 * score}%\")"
      ]
    },
    {
      "cell_type": "markdown",
      "metadata": {
        "id": "I5rMdEjwliYk"
      },
      "source": [
        "This approach simplifies model usage while addressing previous limitations."
      ]
    },
    {
      "cell_type": "markdown",
      "metadata": {
        "id": "KlQjN-nYldyN"
      },
      "source": [
        "### Features of the New API"
      ]
    },
    {
      "cell_type": "markdown",
      "metadata": {
        "id": "CbxDJrG7mgsD"
      },
      "source": [
        "- **Multi-Weight Support**: By associating each model with an Enum class (e.g., `ResNet50_Weights`), the API now supports multiple sets of pre-trained weights.\n",
        "  \n",
        "- **Integrated Metadata and Preprocessing Transforms**: Each set of weights is linked with its corresponding metadata and preprocessing transforms, streamlining the model inference process."
      ]
    },
    {
      "cell_type": "markdown",
      "metadata": {
        "id": "28VMsKk9mqFr"
      },
      "source": [
        "### Utilizing Different Weights"
      ]
    },
    {
      "cell_type": "markdown",
      "metadata": {
        "id": "5vHXYlxElazU"
      },
      "source": [
        "Here's how to use the API to select from different available weights:"
      ]
    },
    {
      "cell_type": "code",
      "execution_count": null,
      "metadata": {
        "id": "g40mkIQ-mk2O"
      },
      "outputs": [],
      "source": [
        "from torchvision.prototype.models import resnet50, ResNet50_Weights\n",
        "\n",
        "# Using different sets of pre-trained weights\n",
        "model_a = resnet50(weights=ResNet50_Weights.IMAGENET1K_V1)  # Old weights\n",
        "model_b = resnet50(weights=ResNet50_Weights.IMAGENET1K_V2)  # Improved weights\n",
        "model_c = resnet50(weights=ResNet50_Weights.DEFAULT)        # Best available weights\n",
        "model_d = resnet50(weights=None)                            # No weights, random initialization"
      ]
    },
    {
      "cell_type": "markdown",
      "metadata": {
        "id": "_v04xOy_m0AI"
      },
      "source": [
        "### Accessing Metadata and Preprocessing Transforms"
      ]
    },
    {
      "cell_type": "markdown",
      "metadata": {
        "id": "nwT7GwrSlXq_"
      },
      "source": [
        "The API makes it easy to access essential metadata and initialize the necessary preprocessing transforms for your data:"
      ]
    },
    {
      "cell_type": "code",
      "execution_count": null,
      "metadata": {
        "id": "Ehoy-avXmwl9"
      },
      "outputs": [],
      "source": [
        "# Accessing metadata\n",
        "size = ResNet50_Weights.IMAGENET1K_V2.meta[\"size\"]\n",
        "\n",
        "# Initializing and applying preprocessing transforms\n",
        "preprocess = ResNet50_Weights.IMAGENET1K_V2.transforms()\n",
        "img_preprocessed = preprocess(img)"
      ]
    },
    {
      "cell_type": "markdown",
      "metadata": {
        "id": "OP95Hu2Pm8oZ"
      },
      "source": [
        "### Retrieving Weights by Name"
      ]
    },
    {
      "cell_type": "markdown",
      "metadata": {
        "id": "6kXrkub1m-88"
      },
      "source": [
        "For situations where only the name of the weights is known, the API provides a convenient retrieval method:"
      ]
    },
    {
      "cell_type": "code",
      "execution_count": null,
      "metadata": {
        "id": "Jyg1CeWunB0J"
      },
      "outputs": [],
      "source": [
        "from torchvision.prototype.models import get_weight\n",
        "\n",
        "# Retrieving weights by name\n",
        "weights = get_weight(\"ResNet50_Weights.IMAGENET1K_V1\")"
      ]
    },
    {
      "cell_type": "markdown",
      "metadata": {
        "id": "Nz9XF1x1U__k"
      },
      "source": [
        "## Implementing Transfer Learning with PyTorch"
      ]
    },
    {
      "cell_type": "markdown",
      "metadata": {
        "id": "2Gq0fS0fPuOR"
      },
      "source": []
    },
    {
      "cell_type": "markdown",
      "metadata": {
        "id": "6ts-gMv_VJxk"
      },
      "source": [
        "## Conclusion\n",
        "\n"
      ]
    },
    {
      "cell_type": "markdown",
      "metadata": {
        "id": "PbNffEhQVLq7"
      },
      "source": [
        "Transfer learning opens up a realm of possibilities in deep learning projects. By utilizing pretrained models, you can accelerate development, conserve resources, and achieve remarkable results, even with limited data. Explore the myriad of available models and find the perfect fit for your next project with PyTorch."
      ]
    }
  ],
  "metadata": {
    "colab": {
      "authorship_tag": "ABX9TyPGOQ18ZIva5ymAwK9vIy/r",
      "include_colab_link": true,
      "provenance": []
    },
    "kernelspec": {
      "display_name": "Python 3",
      "name": "python3"
    },
    "language_info": {
      "name": "python"
    }
  },
  "nbformat": 4,
  "nbformat_minor": 0
}
